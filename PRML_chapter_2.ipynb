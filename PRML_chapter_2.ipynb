{
  "nbformat": 4,
  "nbformat_minor": 0,
  "metadata": {
    "colab": {
      "name": "PRML chapter 2.ipynb",
      "provenance": [],
      "collapsed_sections": [],
      "include_colab_link": true
    },
    "kernelspec": {
      "name": "python3",
      "display_name": "Python 3"
    }
  },
  "cells": [
    {
      "cell_type": "markdown",
      "metadata": {
        "id": "view-in-github",
        "colab_type": "text"
      },
      "source": [
        "<a href=\"https://colab.research.google.com/github/bt22dr/PRML/blob/master/PRML_chapter_2.ipynb\" target=\"_parent\"><img src=\"https://colab.research.google.com/assets/colab-badge.svg\" alt=\"Open In Colab\"/></a>"
      ]
    },
    {
      "cell_type": "markdown",
      "metadata": {
        "id": "ZR2Bagl00RBO",
        "colab_type": "text"
      },
      "source": [
        "# 2. Probability Distributions"
      ]
    },
    {
      "cell_type": "code",
      "metadata": {
        "id": "G-7ZB_0b6gjo",
        "colab_type": "code",
        "colab": {}
      },
      "source": [
        "from __future__ import absolute_import, division, print_function, unicode_literals\n",
        "\n",
        "!pip install scipy\n",
        "!pip install tensorflow-gpu==2.0.0-rc1\n",
        "\n",
        "import tensorflow as tf\n",
        "import tensorflow_probability as tfp\n",
        "tfd = tfp.distributions\n",
        "\n",
        "import sys\n",
        "import math\n",
        "import numpy as np\n",
        "import seaborn as sns\n",
        "import matplotlib.pyplot as plt"
      ],
      "execution_count": 0,
      "outputs": []
    },
    {
      "cell_type": "markdown",
      "metadata": {
        "id": "0SPr76w-_RIU",
        "colab_type": "text"
      },
      "source": [
        "## 2.1 Binary Variables\n",
        "#### The Bernoulli Distribution"
      ]
    },
    {
      "cell_type": "code",
      "metadata": {
        "id": "16r2TfJR6oCv",
        "colab_type": "code",
        "colab": {}
      },
      "source": [
        "class Bernoulli:\n",
        "  def __init__(self, mu=None):\n",
        "    if mu:\n",
        "      assert self.check_parameter(mu), \"0 <= mu <= 1\"\n",
        "    self.mu = mu\n",
        "\n",
        "  def check_support(self, x):\n",
        "    if np.isscalar(x):\n",
        "      return x in [0, 1]\n",
        "    else:\n",
        "      return all([e in [0, 1] for e in x])\n",
        "\n",
        "  def check_parameter(self, mu):\n",
        "    return 0 <= mu <= 1\n",
        "  \n",
        "  def mean(self):\n",
        "    return self.mu # (식 2.3)\n",
        "  \n",
        "  def variance(self):\n",
        "    mu = self.mu\n",
        "    return mu * (1. - mu) # (식 2.4)\n",
        "\n",
        "  def pmf(self, x):\n",
        "    assert self.check_support(x), \"x in {0, 1}\"\n",
        "    mu = self.mu\n",
        "    x = tf.cast(x, tf.float32)\n",
        "    return tf.math.pow(mu, x) * tf.math.pow((1. - mu), (1 - x)) # (식 2.2)\n",
        "\n",
        "  def likelihood(self, D, mu):\n",
        "    D = tf.cast(D, tf.float32)\n",
        "    pow = tf.math.pow\n",
        "    subtract = tf.math.subtract\n",
        "    return tf.reduce_prod(\n",
        "        [(pow(mu, x_n) * pow(subtract(1., mu), (1. - x_n))) for x_n in D], \n",
        "        axis=0) # (식 2.5)\n",
        "\n",
        "  def log_likelihood(self, D, mu):\n",
        "    D = tf.cast(D, tf.float32)\n",
        "    return tf.reduce_sum(\n",
        "        D * tf.math.log(mu) + (1. - D) * tf.math.log(1. - mu)) # (식 2.6)\n",
        "    \n",
        "  def mle(self, D):\n",
        "    self.mu = np.mean(D) # (식 2.7)\n",
        "    return self.mu"
      ],
      "execution_count": 0,
      "outputs": []
    },
    {
      "cell_type": "code",
      "metadata": {
        "id": "lUUblhev6vLm",
        "colab_type": "code",
        "outputId": "c40016e2-1fea-4180-eed0-25a3ecc4fcca",
        "colab": {
          "base_uri": "https://localhost:8080/",
          "height": 51
        }
      },
      "source": [
        "my_bern = Bernoulli(0.1)\n",
        "print(my_bern.pmf(0), my_bern.pmf(1))\n",
        "print(tf.math.log(my_bern.pmf([0, 1])))"
      ],
      "execution_count": 3,
      "outputs": [
        {
          "output_type": "stream",
          "text": [
            "tf.Tensor(0.9, shape=(), dtype=float32) tf.Tensor(0.1, shape=(), dtype=float32)\n",
            "tf.Tensor([-0.10536055 -2.3025851 ], shape=(2,), dtype=float32)\n"
          ],
          "name": "stdout"
        }
      ]
    },
    {
      "cell_type": "code",
      "metadata": {
        "id": "qkzgW0u3eMj2",
        "colab_type": "code",
        "outputId": "03a8a7cd-f9ee-465c-e3f0-8d0bd500dbcf",
        "colab": {
          "base_uri": "https://localhost:8080/",
          "height": 122
        }
      },
      "source": [
        "tf_bern = tfp.distributions.Bernoulli(probs=0.1)\n",
        "print(tf_bern.prob(0), tf_bern.prob(1))\n",
        "print(tf_bern.log_prob([0, 1]))"
      ],
      "execution_count": 4,
      "outputs": [
        {
          "output_type": "stream",
          "text": [
            "WARNING:tensorflow:From /usr/local/lib/python3.6/dist-packages/tensorflow_core/python/ops/nn_impl.py:183: where (from tensorflow.python.ops.array_ops) is deprecated and will be removed in a future version.\n",
            "Instructions for updating:\n",
            "Use tf.where in 2.0, which has the same broadcast rule as np.where\n",
            "tf.Tensor(0.90000004, shape=(), dtype=float32) tf.Tensor(0.099999994, shape=(), dtype=float32)\n",
            "tf.Tensor([-0.10536051 -2.3025851 ], shape=(2,), dtype=float32)\n"
          ],
          "name": "stdout"
        }
      ]
    },
    {
      "cell_type": "code",
      "metadata": {
        "id": "Q6g3rXayEoxI",
        "colab_type": "code",
        "outputId": "ab380de1-ebe3-43c5-bc82-8004b6cc039b",
        "colab": {
          "base_uri": "https://localhost:8080/",
          "height": 34
        }
      },
      "source": [
        "D = tf.reshape(tf.constant([1,1,1]), shape=(-1, 1))\n",
        "print(my_bern.mle(D))"
      ],
      "execution_count": 5,
      "outputs": [
        {
          "output_type": "stream",
          "text": [
            "1.0\n"
          ],
          "name": "stdout"
        }
      ]
    },
    {
      "cell_type": "code",
      "metadata": {
        "id": "80XGGbbFMu8F",
        "colab_type": "code",
        "outputId": "46276b00-86b6-45cc-c4ce-9b9eda30d065",
        "colab": {
          "base_uri": "https://localhost:8080/",
          "height": 34
        }
      },
      "source": [
        "D = tf.reshape(tf.constant([1]), shape=(-1, 1))\n",
        "print(my_bern.likelihood(D, 0.0), my_bern.likelihood(D, 1.0))"
      ],
      "execution_count": 6,
      "outputs": [
        {
          "output_type": "stream",
          "text": [
            "tf.Tensor([0.], shape=(1,), dtype=float32) tf.Tensor([1.], shape=(1,), dtype=float32)\n"
          ],
          "name": "stdout"
        }
      ]
    },
    {
      "cell_type": "markdown",
      "metadata": {
        "id": "mykAJV1J_ZJs",
        "colab_type": "text"
      },
      "source": [
        "#### The Binomial Distribution"
      ]
    },
    {
      "cell_type": "code",
      "metadata": {
        "id": "G0RhV_zVeQ1R",
        "colab_type": "code",
        "colab": {}
      },
      "source": [
        "def binomial_coefficient(N, m):\n",
        "  from scipy.special import factorial\n",
        "  return factorial(N) / (factorial(tf.math.subtract(N, m)) * factorial(m))\n",
        "  \n",
        "class Binomial:\n",
        "  def __init__(self, N, mu):\n",
        "    assert self.check_parameter(N, mu), \"N >= 0 and 0 <= mu <= 1\"\n",
        "    self.N = N\n",
        "    self.mu = mu\n",
        "\n",
        "  def check_support(self, m):\n",
        "    if np.isscalar(m):\n",
        "      return m in range(self.N+1)\n",
        "    else:\n",
        "      return all([e in range(self.N+1) for e in m])\n",
        "\n",
        "  def check_parameter(self, N, mu):\n",
        "    return N >= 0 and 0 <= mu <= 1\n",
        "  \n",
        "  def mean(self):\n",
        "    return N * self.mu\n",
        "  \n",
        "  def variance(self):\n",
        "    mu = self.mu\n",
        "    return N * mu * (1. - mu)\n",
        "\n",
        "  def pmf(self, m):\n",
        "    assert self.check_support(m), \"m in {0,1,... ,N}\"\n",
        "    N, mu = self.N, self.mu\n",
        "    m = tf.cast(m, tf.float32)\n",
        "    pow = tf.math.pow\n",
        "    # (식 2.9)\n",
        "    return binomial_coefficient(N, m) * pow(mu, m) * pow((1 - mu), (N - m))"
      ],
      "execution_count": 0,
      "outputs": []
    },
    {
      "cell_type": "code",
      "metadata": {
        "id": "Mwim76DQEpcx",
        "colab_type": "code",
        "outputId": "d574d45c-84f9-4ba7-a6a7-7dee6c58d570",
        "colab": {
          "base_uri": "https://localhost:8080/",
          "height": 51
        }
      },
      "source": [
        "my_bin = Binomial(10, 0.25)\n",
        "print(my_bin.pmf(2))\n",
        "print(my_bin.pmf([2,3]))"
      ],
      "execution_count": 8,
      "outputs": [
        {
          "output_type": "stream",
          "text": [
            "tf.Tensor(0.28156757, shape=(), dtype=float32)\n",
            "tf.Tensor([0.28156757 0.2502823 ], shape=(2,), dtype=float32)\n"
          ],
          "name": "stdout"
        }
      ]
    },
    {
      "cell_type": "code",
      "metadata": {
        "id": "9DP5qCxSE1M2",
        "colab_type": "code",
        "outputId": "9468005f-4133-4c37-f4b6-4e387b07d5ab",
        "colab": {
          "base_uri": "https://localhost:8080/",
          "height": 282
        }
      },
      "source": [
        "x = range(11)\n",
        "plt.bar(x, my_bin.pmf(x))"
      ],
      "execution_count": 9,
      "outputs": [
        {
          "output_type": "execute_result",
          "data": {
            "text/plain": [
              "<BarContainer object of 11 artists>"
            ]
          },
          "metadata": {
            "tags": []
          },
          "execution_count": 9
        },
        {
          "output_type": "display_data",
          "data": {
            "image/png": "[encoded data removed]",
            "text/plain": [
              "<Figure size 432x288 with 1 Axes>"
            ]
          },
          "metadata": {
            "tags": []
          }
        }
      ]
    },
    {
      "cell_type": "markdown",
      "metadata": {
        "id": "jfweus3uL9uI",
        "colab_type": "text"
      },
      "source": [
        "### 2.1.1 The Beta Distribution"
      ]
    },
    {
      "cell_type": "code",
      "metadata": {
        "id": "6bYe_FijOxzL",
        "colab_type": "code",
        "colab": {}
      },
      "source": [
        "def beta_coefficient(a, b):\n",
        "  return math.gamma(a+b) / (math.gamma(a) * math.gamma(b))\n",
        "\n",
        "class Beta:\n",
        "  def __init__(self, a, b):\n",
        "    assert self.check_parameter(a, b), \"a > 0 and b > 0\"\n",
        "    self.a, self.b = a, b\n",
        "\n",
        "  def check_support(self, mu):\n",
        "    if np.isscalar(mu):\n",
        "      return 0 <= mu <= 1\n",
        "    else:\n",
        "      return all([0 <= e <= 1 for e in mu])\n",
        "\n",
        "  def check_parameter(self, a, b):\n",
        "    return a > 0 and b > 0\n",
        "  \n",
        "  def mean(self):\n",
        "    a, b = self.a, self.b\n",
        "    return a / (a + b) # (식 2.15)\n",
        "  \n",
        "  def variance(self):\n",
        "    a, b = self.a, self.b\n",
        "    (a * b) / ((a + b)**2 * (a + b + 1)) # (식 2.16)\n",
        "\n",
        "  def pdf(self, mu):\n",
        "    assert self.check_support(mu), \"0 <= mu <= 1\"\n",
        "    a, b = tf.cast(self.a, tf.float32), tf.cast(self.b, tf.float32)\n",
        "    pow = tf.math.pow\n",
        "    subtract = tf.math.subtract\n",
        "    # (식 2.13)\n",
        "    return beta_coefficient(a,b) * pow(mu, (a-1)) * pow(subtract(1., mu), (b-1))"
      ],
      "execution_count": 0,
      "outputs": []
    },
    {
      "cell_type": "code",
      "metadata": {
        "id": "tV-qLU4UIo9l",
        "colab_type": "code",
        "outputId": "9818149b-2c8d-4264-869e-4c360b7ba5d7",
        "colab": {
          "base_uri": "https://localhost:8080/",
          "height": 51
        }
      },
      "source": [
        "my_beta = Beta(0.1,0.1)\n",
        "print(my_beta.pdf(0.5))\n",
        "print(my_beta.pdf([0, 0.5, 1.]))"
      ],
      "execution_count": 11,
      "outputs": [
        {
          "output_type": "stream",
          "text": [
            "tf.Tensor(0.17663027, shape=(), dtype=float32)\n",
            "tf.Tensor([       inf 0.17663027        inf], shape=(3,), dtype=float32)\n"
          ],
          "name": "stdout"
        }
      ]
    },
    {
      "cell_type": "code",
      "metadata": {
        "id": "CjkZdoDuUXdO",
        "colab_type": "code",
        "outputId": "c497c9f0-cb38-4ddf-a964-493fd30a6bd2",
        "colab": {
          "base_uri": "https://localhost:8080/",
          "height": 596
        }
      },
      "source": [
        "plt.figure(figsize=(10,10))\n",
        "x = np.linspace(0, 1, 100)\n",
        "for i, [a, b] in enumerate([[0.1, 0.1], [1, 1], [2, 3], [8, 4]]):\n",
        "    plt.subplot(2, 2, i + 1)\n",
        "    my_beta = Beta(a, b)\n",
        "    plt.xlim(0, 1)\n",
        "    plt.ylim(0, 3)\n",
        "    plt.plot(x, my_beta.pdf(x))\n",
        "    plt.annotate(\"a={}\".format(a), (0.1, 2.5))\n",
        "    plt.annotate(\"b={}\".format(b), (0.1, 2.2))\n",
        "plt.show()"
      ],
      "execution_count": 12,
      "outputs": [
        {
          "output_type": "display_data",
          "data": {
            "image/png": "[encoded data removed]",
            "text/plain": [
              "<Figure size 720x720 with 4 Axes>"
            ]
          },
          "metadata": {
            "tags": []
          }
        }
      ]
    },
    {
      "cell_type": "code",
      "metadata": {
        "id": "tYzZHPYrqVCZ",
        "colab_type": "code",
        "colab": {}
      },
      "source": [
        "a, b = 2, 2\n",
        "m, l = 1, 0\n",
        "\n",
        "c_prior = beta_coefficient(a, b)\n",
        "c_likelihood = binomial_coefficient(m+l, m)\n",
        "c_posterior = beta_coefficient(m+a, l+b)\n",
        "C = c_posterior / c_prior / c_likelihood\n",
        "\n",
        "prior = Beta(a, b)\n",
        "likelihood = Bernoulli()"
      ],
      "execution_count": 0,
      "outputs": []
    },
    {
      "cell_type": "code",
      "metadata": {
        "id": "vPC59uDqqU9E",
        "colab_type": "code",
        "outputId": "2b5892a8-dcb0-40e6-f530-869052527e38",
        "colab": {
          "base_uri": "https://localhost:8080/",
          "height": 161
        }
      },
      "source": [
        "x = np.linspace(0, 1, 100)\n",
        "y_prior = prior.pdf(x)\n",
        "y_likelihood = likelihood.likelihood([1], x)\n",
        "y_posterior = C * y_likelihood * y_prior # (식 2.18)과 동일한 결과가 나와야함\n",
        "ys = [y_prior, y_likelihood, y_posterior]\n",
        "\n",
        "plt.figure(figsize=(15, 2))\n",
        "for i in range(3):\n",
        "  plt.subplot(1, 3, i+1)\n",
        "  plt.xlim(0, 1)\n",
        "  plt.ylim(0, 2)\n",
        "  plt.plot(x, ys[i])"
      ],
      "execution_count": 14,
      "outputs": [
        {
          "output_type": "display_data",
          "data": {
            "image/png": "[encoded data removed]",
            "text/plain": [
              "<Figure size 1080x144 with 3 Axes>"
            ]
          },
          "metadata": {
            "tags": []
          }
        }
      ]
    },
    {
      "cell_type": "markdown",
      "metadata": {
        "id": "hZY1jhSz0Jsb",
        "colab_type": "text"
      },
      "source": [
        "## 2.2 Multinomial Variables\n",
        "#### The Multinoulli Distribution"
      ]
    },
    {
      "cell_type": "code",
      "metadata": {
        "id": "st-0A7ieqU7Z",
        "colab_type": "code",
        "colab": {}
      },
      "source": [
        "class Multinoulli:\n",
        "  def __init__(self, mu=None):\n",
        "    if mu is not None:\n",
        "      assert self.check_parameter(mu), \"mu >= 0 & sum(mu) == 1\"\n",
        "    self.mu = mu\n",
        "\n",
        "  def check_support(self, x):\n",
        "    if np.isscalar(x):\n",
        "      return x in range(1, len(self.mu)+1)\n",
        "    else:\n",
        "      return all([e.numpy() in [0, 1] for e in x]) and np.sum(x) == 1\n",
        "\n",
        "  def check_parameter(self, mu):\n",
        "    return all([e >= 0 for e in mu]) and np.sum(mu) == 1 # (식 2.27)\n",
        "  \n",
        "  def mean(self):\n",
        "    return self.mu # (식 2.28)\n",
        "  \n",
        "  def pmf(self, x):\n",
        "    assert self.check_support(x), \"x in {1, ..., len(mu)} or one_hot(x)\"\n",
        "    mu = self.mu\n",
        "    if np.isscalar(x):\n",
        "      x = tf.reshape(tf.one_hot(x-1, len(mu)), [-1, 1]) # (식 2.25)\n",
        "    x = tf.cast(x, tf.float32)\n",
        "    return tf.reduce_prod(tf.math.pow(mu, x))\n",
        "\n",
        "  def likelihood(self, D, mu):\n",
        "    D = tf.cast(D, tf.float32)\n",
        "    m_k = tf.reshape(tf.reduce_sum(D, axis=0), [-1, 1])\n",
        "    return tf.reduce_prod(tf.math.pow(mu, m_k)) # (식 2.29)\n",
        "\n",
        "  def mle(self, D):\n",
        "    D = tf.cast(D, tf.float32)\n",
        "    m_k = tf.reshape(tf.reduce_sum(D, axis=0), [-1, 1])\n",
        "    self.mu = tf.reduce_mean(D, axis=0) # (식 2.33)\n",
        "    return self.mu"
      ],
      "execution_count": 0,
      "outputs": []
    },
    {
      "cell_type": "code",
      "metadata": {
        "id": "nSqC7nrjqU4A",
        "colab_type": "code",
        "outputId": "a162cb9d-67d0-4756-d180-46b8ef530107",
        "colab": {
          "base_uri": "https://localhost:8080/",
          "height": 153
        }
      },
      "source": [
        "mu = tf.reshape(tf.constant([0.1, 0.4, 0.5]), [3, 1])\n",
        "x  = tf.reshape(tf.constant([1, 0, 0]), [3, 1])\n",
        "D  = np.array([[0, 1, 0], [1, 0, 0], [1, 0, 0], [0, 0, 1]])\n",
        "\n",
        "my_cate = Multinoulli(mu)\n",
        "print(my_cate.mean())\n",
        "print(my_cate.pmf(x))\n",
        "print(my_cate.pmf(3))\n",
        "print(my_cate.likelihood(D, mu))\n",
        "print(my_cate.mle(D))"
      ],
      "execution_count": 16,
      "outputs": [
        {
          "output_type": "stream",
          "text": [
            "tf.Tensor(\n",
            "[[0.1]\n",
            " [0.4]\n",
            " [0.5]], shape=(3, 1), dtype=float32)\n",
            "tf.Tensor(0.1, shape=(), dtype=float32)\n",
            "tf.Tensor(0.5, shape=(), dtype=float32)\n",
            "tf.Tensor(0.002, shape=(), dtype=float32)\n",
            "tf.Tensor([0.5  0.25 0.25], shape=(3,), dtype=float32)\n"
          ],
          "name": "stdout"
        }
      ]
    },
    {
      "cell_type": "markdown",
      "metadata": {
        "id": "NOFPIEG4NG1w",
        "colab_type": "text"
      },
      "source": [
        "#### The Multinomial Distribution"
      ]
    },
    {
      "cell_type": "code",
      "metadata": {
        "id": "eBVbzintBHyQ",
        "colab_type": "code",
        "colab": {}
      },
      "source": [
        "def multinomial_coefficient(N, m):\n",
        "  from scipy.special import factorial\n",
        "  return factorial(N) / tf.reduce_prod(factorial(m))\n",
        "  \n",
        "class Multinomial:\n",
        "  def __init__(self, N, mu):\n",
        "    assert self.check_parameter(N, mu), \"N > 0 and 0 <= mu <= 1\"\n",
        "    self.N = N\n",
        "    self.mu = mu\n",
        "\n",
        "  def check_support(self, m):\n",
        "    if np.isscalar(x):\n",
        "      return x in range(1, len(self.mu)+1)\n",
        "    else:\n",
        "      return all([e.numpy() in [0, 1] for e in x]) and np.sum(x) == 1\n",
        "\n",
        "  def check_parameter(self, N, mu):\n",
        "    return N > 0 and all([e >= 0 for e in mu]) and np.sum(mu) == 1\n",
        "  \n",
        "  def pmf(self, m):\n",
        "    #assert self.check_support(m), \"m in {0,1,... ,N}\"\n",
        "    N, mu = self.N, self.mu\n",
        "    m = tf.cast(m, tf.float32)\n",
        "    return multinomial_coefficient(N, m) * tf.reduce_prod(tf.math.pow(mu, m))"
      ],
      "execution_count": 0,
      "outputs": []
    },
    {
      "cell_type": "code",
      "metadata": {
        "id": "rRHKpcrixj6L",
        "colab_type": "code",
        "outputId": "e5df5a9f-a84c-4ea8-b524-35c658cc4a0b",
        "colab": {
          "base_uri": "https://localhost:8080/",
          "height": 34
        }
      },
      "source": [
        "mu = tf.constant([.2, .3, .5], shape=[3, 1])\n",
        "x  = tf.constant([1, 0, 3], shape=[3, 1])\n",
        "my_mult = Multinomial(4, mu)\n",
        "my_mult.pmf(x)"
      ],
      "execution_count": 18,
      "outputs": [
        {
          "output_type": "execute_result",
          "data": {
            "text/plain": [
              "<tf.Tensor: id=624, shape=(), dtype=float32, numpy=0.1>"
            ]
          },
          "metadata": {
            "tags": []
          },
          "execution_count": 18
        }
      ]
    },
    {
      "cell_type": "code",
      "metadata": {
        "id": "kZOyTNx-IwC_",
        "colab_type": "code",
        "outputId": "74aa5365-ebdd-4884-bf57-317c56a2a713",
        "colab": {
          "base_uri": "https://localhost:8080/",
          "height": 34
        }
      },
      "source": [
        "p = [.2, .3, .5]\n",
        "dist = tfd.Multinomial(total_count=4., probs=p)\n",
        "counts = [1, 0, 3]\n",
        "dist.prob(counts)"
      ],
      "execution_count": 19,
      "outputs": [
        {
          "output_type": "execute_result",
          "data": {
            "text/plain": [
              "<tf.Tensor: id=649, shape=(), dtype=float32, numpy=0.099999994>"
            ]
          },
          "metadata": {
            "tags": []
          },
          "execution_count": 19
        }
      ]
    },
    {
      "cell_type": "markdown",
      "metadata": {
        "id": "_lxhfNpBDayn",
        "colab_type": "text"
      },
      "source": [
        "### 2.2.1 The Dirichlet distribution"
      ]
    },
    {
      "cell_type": "code",
      "metadata": {
        "id": "v9PHOB41Iv8B",
        "colab_type": "code",
        "colab": {}
      },
      "source": [
        "eps = 1.e-3\n",
        "\n",
        "def dirichlet_coefficient(alpha):\n",
        "  return math.gamma(\n",
        "      tf.reduce_sum(alpha)) / tf.reduce_prod([math.gamma(e) for e in alpha])\n",
        "\n",
        "class Dirichlet:\n",
        "  def __init__(self, alpha):\n",
        "    assert self.check_parameter(alpha), \"alpha_k > 0, K >= 2\"\n",
        "    self.alpha = alpha\n",
        "\n",
        "  def check_support(self, mu):\n",
        "    return all([e > 0 for e in mu]) and np.abs(np.sum(mu) - 1) < eps\n",
        "\n",
        "  def check_parameter(self, alpha):\n",
        "    return all([e > 0 for e in alpha]) and len(alpha) >= 2\n",
        "\n",
        "  def pdf(self, mu):\n",
        "    assert self.check_support(mu), \"mu > 0 & sum(mu) == 1\"\n",
        "    alpha = tf.cast(self.alpha, tf.float32)\n",
        "    pow = tf.math.pow\n",
        "    subtract = tf.math.subtract\n",
        "    return dirichlet_coefficient(alpha) * tf.reduce_prod(pow(mu, alpha-1))\n"
      ],
      "execution_count": 0,
      "outputs": []
    },
    {
      "cell_type": "code",
      "metadata": {
        "id": "v5C5FHVJTpP6",
        "colab_type": "code",
        "outputId": "775dd7c5-8fca-4dba-d69b-f695b96c5ed5",
        "colab": {
          "base_uri": "https://localhost:8080/",
          "height": 34
        }
      },
      "source": [
        "alpha = tf.constant([1, 2, 3], shape=[3,1])\n",
        "x = tf.constant([.2, .3, .5], shape=[3,1])\n",
        "my_dir = Dirichlet(alpha)\n",
        "my_dir.pdf(x)"
      ],
      "execution_count": 21,
      "outputs": [
        {
          "output_type": "execute_result",
          "data": {
            "text/plain": [
              "<tf.Tensor: id=721, shape=(), dtype=float32, numpy=4.5>"
            ]
          },
          "metadata": {
            "tags": []
          },
          "execution_count": 21
        }
      ]
    },
    {
      "cell_type": "code",
      "metadata": {
        "id": "rEowiJabIv6M",
        "colab_type": "code",
        "outputId": "6bc4073d-0fff-446b-f06f-d836a8ab66a2",
        "colab": {
          "base_uri": "https://localhost:8080/",
          "height": 34
        }
      },
      "source": [
        "alpha = [1, 2, 3]\n",
        "dist = tfd.Dirichlet(alpha)\n",
        "\n",
        "# x has one sample, one batch, three classes:\n",
        "x = [.2, .3, .5]   # shape: [3]\n",
        "dist.prob(x)       # shape: []"
      ],
      "execution_count": 22,
      "outputs": [
        {
          "output_type": "execute_result",
          "data": {
            "text/plain": [
              "<tf.Tensor: id=739, shape=(), dtype=float32, numpy=4.5>"
            ]
          },
          "metadata": {
            "tags": []
          },
          "execution_count": 22
        }
      ]
    },
    {
      "cell_type": "code",
      "metadata": {
        "id": "LCYKPm8FIv2S",
        "colab_type": "code",
        "outputId": "b6eda89d-2df5-4286-b6f5-1276925a487a",
        "colab": {
          "base_uri": "https://localhost:8080/",
          "height": 303
        }
      },
      "source": [
        "# 참고\n",
        "# * https://gist.github.com/tboggs/8778945\n",
        "# * https://datascienceschool.net/view-notebook/5deb23973a0240beb510cc2cd3b2f43d\n",
        "\n",
        "import matplotlib.tri as tri\n",
        "from matplotlib import ticker, cm\n",
        "from mpl_toolkits.mplot3d import Axes3D\n",
        "\n",
        "_corners = np.array([[0, 0], [1, 0], [0.5, 0.75**0.5]])\n",
        "_triangle = tri.Triangulation(_corners[:, 0], _corners[:, 1])\n",
        "_midpoints = [(_corners[(i + 1) % 3] + _corners[(i + 2) % 3]) / 2.0 \\\n",
        "              for i in range(3)]\n",
        "\n",
        "def xy2bc(xy, tol=1.e-3):\n",
        "  s = [(_corners[i] - _midpoints[i]).dot(xy - _midpoints[i]) / 0.75 \\\n",
        "        for i in range(3)]\n",
        "  return np.clip(s, tol, 1.0 - tol)\n",
        "\n",
        "def draw_pdf_contours(dist, ax, subdiv=6, **kwargs):\n",
        "    from matplotlib import ticker, cm\n",
        "    import math\n",
        "\n",
        "    refiner = tri.UniformTriRefiner(_triangle)\n",
        "    trimesh = refiner.refine_triangulation(subdiv=subdiv)\n",
        "    pvals = [dist.pdf(xy2bc(xy, tol=eps)) for xy in zip(trimesh.x, trimesh.y)]\n",
        "\n",
        "    ax.plot_trisurf(trimesh.x, trimesh.y, pvals, cmap=cm.jet, linewidth=0.2)\n",
        "    ax.view_init(20, 210)\n",
        "    ax.set_zlim(0, 100) # ax.set_aspect('equal', 'datalim')\n",
        "\n",
        "fig, axes = plt.subplots(1, 3, figsize=(15,5), subplot_kw={'projection': '3d'})\n",
        "alphas = [[0.1] * 3,\n",
        "          [1] * 3,\n",
        "          [10] * 3]\n",
        "for (i, alpha) in enumerate(alphas):\n",
        "    dist = Dirichlet(alpha)\n",
        "    draw_pdf_contours(dist, axes[i])"
      ],
      "execution_count": 23,
      "outputs": [
        {
          "output_type": "display_data",
          "data": {
            "image/png": "[encoded data removed]",
            "text/plain": [
              "<Figure size 1080x360 with 3 Axes>"
            ]
          },
          "metadata": {
            "tags": []
          }
        }
      ]
    },
    {
      "cell_type": "markdown",
      "metadata": {
        "id": "qWhbC5iv52aj",
        "colab_type": "text"
      },
      "source": [
        "## 2.3 The Gaussian Distribution\n",
        "\n",
        "* univariate gaussian distribution"
      ]
    },
    {
      "cell_type": "code",
      "metadata": {
        "id": "H-azZPN32S05",
        "colab_type": "code",
        "colab": {}
      },
      "source": [
        "class Gaussian:\n",
        "  def __init__(self, mu=None, var=None):\n",
        "    self.mu = mu\n",
        "    self.var = var\n",
        "    if mu is not None:\n",
        "      assert self.check_parameter_mu(mu), \"mu in R\"\n",
        "      self.mu = tf.cast(mu, tf.float32)\n",
        "    if var is not None:\n",
        "      assert self.check_parameter_var(var), \"var > 0 and var.shape == mu.shape\"\n",
        "      self.var = tf.cast(var, tf.float32)\n",
        "    \n",
        "  def check_support(self, x):\n",
        "    if np.isscalar(x):\n",
        "      return not isinstance(x, complex)\n",
        "    else:\n",
        "      return all([not isinstance(e, complex) for e in x])\n",
        "\n",
        "  def check_parameter_mu(self, mu):\n",
        "    if np.isscalar(mu):\n",
        "      return not isinstance(mu, complex)\n",
        "    else:\n",
        "      return all([not isinstance(e, complex) for e in mu])\n",
        "  \n",
        "  def check_parameter_var(self, var):\n",
        "    if np.isscalar(var):\n",
        "      return var > 0\n",
        "    else:\n",
        "      return all([e > 0 for e in var]) and mu.shape == var.shape\n",
        "\n",
        "  def mean(self):\n",
        "    return self.mu\n",
        "  \n",
        "  def variance(self):\n",
        "    return self.var\n",
        "\n",
        "  def pdf(self, x):\n",
        "    assert self.check_support(x), \"x in R\"\n",
        "    mu = self.mu\n",
        "    var = self.var\n",
        "    x = tf.cast(x, tf.float32)\n",
        "\n",
        "    d = tf.math.subtract(x, mu)\n",
        "    return (tf.math.exp(-0.5 / var * d ** 2) / tf.math.sqrt(2 * np.pi * var))\n",
        "  \n",
        "  def mle(self, D):\n",
        "    pass"
      ],
      "execution_count": 0,
      "outputs": []
    },
    {
      "cell_type": "code",
      "metadata": {
        "id": "ynebPMUa534C",
        "colab_type": "code",
        "outputId": "0ed069f0-2a11-4648-d42f-a09da52b84e0",
        "colab": {
          "base_uri": "https://localhost:8080/",
          "height": 282
        }
      },
      "source": [
        "my_norm = Gaussian(0, 0.1)\n",
        "x = np.linspace(-1, 1, 100)\n",
        "plt.plot(x, my_norm.pdf(x))"
      ],
      "execution_count": 25,
      "outputs": [
        {
          "output_type": "execute_result",
          "data": {
            "text/plain": [
              "[<matplotlib.lines.Line2D at 0x7f4d08eb5b00>]"
            ]
          },
          "metadata": {
            "tags": []
          },
          "execution_count": 25
        },
        {
          "output_type": "display_data",
          "data": {
            "image/png": "[encoded data removed]",
            "text/plain": [
              "<Figure size 432x288 with 1 Axes>"
            ]
          },
          "metadata": {
            "tags": []
          }
        }
      ]
    },
    {
      "cell_type": "code",
      "metadata": {
        "id": "3_iVHszy53nb",
        "colab_type": "code",
        "outputId": "cdefaff7-0e21-4160-924a-c8d2fa00e649",
        "colab": {
          "base_uri": "https://localhost:8080/",
          "height": 211
        }
      },
      "source": [
        "mu = tf.constant([0, 1, 3], shape=[3,1])\n",
        "var = tf.constant([.1, .2, .5], shape=[3,1])\n",
        "my_norm = Gaussian(mu, var)\n",
        "\n",
        "x = np.linspace(-1, 5, 100)\n",
        "plt.figure(figsize=(15, 3))\n",
        "plt.xlim(-1, 5)\n",
        "plt.plot(x, my_norm.pdf(x)[0], x, my_norm.pdf(x)[1], x, my_norm.pdf(x)[2])\n",
        "plt.show()"
      ],
      "execution_count": 26,
      "outputs": [
        {
          "output_type": "display_data",
          "data": {
            "image/png": "[encoded data removed]",
            "text/plain": [
              "<Figure size 1080x216 with 1 Axes>"
            ]
          },
          "metadata": {
            "tags": []
          }
        }
      ]
    },
    {
      "cell_type": "code",
      "metadata": {
        "id": "iWJrMuiwKE61",
        "colab_type": "code",
        "outputId": "167a852c-5c71-460a-ea4b-329104465078",
        "colab": {
          "base_uri": "https://localhost:8080/",
          "height": 215
        }
      },
      "source": [
        "Ns = [1, 2, 10]\n",
        "tf_unif = tfd.Uniform()\n",
        "plt.figure(figsize=(15, 3))\n",
        "for i, N in enumerate(Ns):\n",
        "  sum_of_rvs = tf.reduce_mean(tf_unif.sample(sample_shape=(N, 100000)), axis=0)\n",
        "  plt.subplot(1, 3, i+1)\n",
        "  plt.xlim(0, 1)\n",
        "  plt.ylim(0, 5)\n",
        "  plt.hist(sum_of_rvs, bins=20, density=True)"
      ],
      "execution_count": 27,
      "outputs": [
        {
          "output_type": "display_data",
          "data": {
            "image/png": "[encoded data removed]",
            "text/plain": [
              "<Figure size 1080x216 with 3 Axes>"
            ]
          },
          "metadata": {
            "tags": []
          }
        }
      ]
    },
    {
      "cell_type": "code",
      "metadata": {
        "colab_type": "code",
        "id": "QVy9cbpkBBuL",
        "colab": {}
      },
      "source": [
        "class MultivariateGaussian:\n",
        "  def __init__(self, mu=None, cov=None):\n",
        "    self.mu = mu\n",
        "    self.cov = cov\n",
        "    if mu is not None and cov is not None:\n",
        "      self.mu = tf.reshape(tf.cast(mu, tf.float32), shape=[-1, 1])\n",
        "      self.D  = self.mu.shape[0]\n",
        "      self.cov = tf.cast(cov, tf.float32)\n",
        "\n",
        "  def mean(self):\n",
        "    return tf.squeeze(self.mu)\n",
        "  \n",
        "  def covariance(self):\n",
        "    return self.cov\n",
        "\n",
        "  def pdf(self, x):\n",
        "    mu = self.mu\n",
        "    cov = self.cov\n",
        "    \n",
        "    if tf.rank(x) == 1:\n",
        "      x = tf.expand_dims(x, 0)\n",
        "    x = tf.transpose(tf.cast(x, tf.float32))\n",
        "    d = tf.math.subtract(x, mu)\n",
        "    precision_mat = tf.linalg.inv(cov)\n",
        "    return tf.squeeze(\n",
        "      tf.linalg.diag_part(\n",
        "        tf.math.exp(-0.5 * tf.matmul(\n",
        "            tf.matmul(tf.transpose(d), precision_mat), d))\n",
        "        / tf.math.sqrt(tf.linalg.det(cov))\n",
        "        / tf.math.pow(2 * np.pi, 0.5 * self.D)))\n",
        "\n",
        "  def mle(self, D):\n",
        "    N = len(D)\n",
        "    sample_mean = tf.reduce_mean(D, axis=0) # (식 2.122)\n",
        "    self.mu = tf.reshape(sample_mean, shape=[-1, 1])\n",
        "    D = tf.transpose(D)\n",
        "    d = tf.subtract(D, self.mu)\n",
        "    self.cov = (1/(N-1) * tf.matmul(d, tf.transpose(d))) # (식 2.125)\n",
        "\n",
        "    return self.mean(), self.covariance()"
      ],
      "execution_count": 0,
      "outputs": []
    },
    {
      "cell_type": "code",
      "metadata": {
        "id": "4ZMSRsX2CVVT",
        "colab_type": "code",
        "outputId": "f03baca2-5307-4441-d721-96d357cb97f3",
        "colab": {
          "base_uri": "https://localhost:8080/",
          "height": 51
        }
      },
      "source": [
        "mu = tf.constant([0,0,0])\n",
        "cov = tf.constant(\n",
        "    [[ 1,  0,  0],\n",
        "     [ 0,  1,  0],\n",
        "     [ 0,  0,  1]])\n",
        "\n",
        "my_gaus = MultivariateGaussian(mu, cov)\n",
        "\n",
        "x = tf.constant([0,0,0])\n",
        "print(my_gaus.pdf(x))\n",
        "\n",
        "x = tf.constant([[0,0,0], [1,1,1]])\n",
        "print(my_gaus.pdf(x))"
      ],
      "execution_count": 29,
      "outputs": [
        {
          "output_type": "stream",
          "text": [
            "tf.Tensor(0.06349363, shape=(), dtype=float32)\n",
            "tf.Tensor([0.06349363 0.01416735], shape=(2,), dtype=float32)\n"
          ],
          "name": "stdout"
        }
      ]
    },
    {
      "cell_type": "code",
      "metadata": {
        "id": "ME-XM_IKSNG7",
        "colab_type": "code",
        "outputId": "da470fd4-95e8-45f3-95b6-8fb33d62e869",
        "colab": {
          "base_uri": "https://localhost:8080/",
          "height": 282
        }
      },
      "source": [
        "x, y = np.mgrid[-1:1:.05, -1:1:.05]\n",
        "myrv = MultivariateGaussian([0.5, -0.2], [[2.0, 0.3], [0.3, 0.5]])\n",
        "data = np.reshape(np.array([x, y]), (2,-1)).T\n",
        "p = tf.reshape(myrv.pdf(data), x.shape)\n",
        "plt.contourf(x, y, p)"
      ],
      "execution_count": 30,
      "outputs": [
        {
          "output_type": "execute_result",
          "data": {
            "text/plain": [
              "<matplotlib.contour.QuadContourSet at 0x7f4d03b73ac8>"
            ]
          },
          "metadata": {
            "tags": []
          },
          "execution_count": 30
        },
        {
          "output_type": "display_data",
          "data": {
            "image/png": "[encoded data removed]",
            "text/plain": [
              "<Figure size 432x288 with 1 Axes>"
            ]
          },
          "metadata": {
            "tags": []
          }
        }
      ]
    },
    {
      "cell_type": "code",
      "metadata": {
        "id": "3_BvxIc0Ysfv",
        "colab_type": "code",
        "outputId": "4317d01b-aed3-40a6-ad81-4d510b65e99b",
        "colab": {
          "base_uri": "https://localhost:8080/",
          "height": 34
        }
      },
      "source": [
        "from scipy.stats import multivariate_normal\n",
        "\n",
        "rv = multivariate_normal([0,0,0], [[1,0,0], [0,1,0], [0,0,1]])\n",
        "print(rv.pdf([[0,0,0], [1,1,1]]))"
      ],
      "execution_count": 31,
      "outputs": [
        {
          "output_type": "stream",
          "text": [
            "[0.06349364 0.01416735]\n"
          ],
          "name": "stdout"
        }
      ]
    },
    {
      "cell_type": "code",
      "metadata": {
        "id": "DKd0wLhbZqfS",
        "colab_type": "code",
        "outputId": "5fccae40-5b36-4cee-ef61-9d20e48b85c1",
        "colab": {
          "base_uri": "https://localhost:8080/",
          "height": 282
        }
      },
      "source": [
        "x, y = np.mgrid[-1:1:.01, -1:1:.01]\n",
        "pos = np.empty(x.shape + (2,))\n",
        "pos[:, :, 0] = x; pos[:, :, 1] = y\n",
        "rv = multivariate_normal([0.5, -0.2], [[2.0, 0.3], [0.3, 0.5]])\n",
        "plt.contourf(x, y, rv.pdf(pos))"
      ],
      "execution_count": 32,
      "outputs": [
        {
          "output_type": "execute_result",
          "data": {
            "text/plain": [
              "<matplotlib.contour.QuadContourSet at 0x7f4d03c19e48>"
            ]
          },
          "metadata": {
            "tags": []
          },
          "execution_count": 32
        },
        {
          "output_type": "display_data",
          "data": {
            "image/png": "[encoded data removed]",
            "text/plain": [
              "<Figure size 432x288 with 1 Axes>"
            ]
          },
          "metadata": {
            "tags": []
          }
        }
      ]
    },
    {
      "cell_type": "markdown",
      "metadata": {
        "id": "8DGtp0YudfkC",
        "colab_type": "text"
      },
      "source": [
        "$$\\Sigma \\bf{u}_i = \\lambda_i \\bf{u}_i$$\n",
        "$$\\bf{y} = \\bf{U} ( \\bf{x} - \\boldsymbol{\\mu})$$"
      ]
    },
    {
      "cell_type": "code",
      "metadata": {
        "id": "kL5jt_ZYTct-",
        "colab_type": "code",
        "outputId": "d1f962fa-0c2b-454d-e2b7-fda0e2efa441",
        "colab": {
          "base_uri": "https://localhost:8080/",
          "height": 299
        }
      },
      "source": [
        "mu = tf.constant([4., 2.])\n",
        "cov = tf.constant([[3.0, 0.8], [0.8, 1.0]])*2\n",
        "myrv = MultivariateGaussian(mu, cov)\n",
        "\n",
        "lamb = tf.linalg.eigh(cov)[0]\n",
        "U = tf.linalg.eigh(cov)[1]\n",
        "\n",
        "y_coord = tf.linalg.matvec(U, tf.subtract([4,2],mu))\n",
        "print(\"x 좌표계에서 (4,2)의 y 좌표계에서의 좌표:\", y_coord.numpy())\n",
        "y_coord = tf.linalg.matvec(U, tf.subtract([0,0],mu))\n",
        "print(\"x 좌표계에서 (0,0)의 y 좌표계에서의 좌표:\", y_coord.numpy())\n",
        "\n",
        "x, y = np.mgrid[0:8:.1, 0:4:.1]\n",
        "data = np.reshape(np.array([x, y]), (2,-1)).T\n",
        "p = tf.reshape(myrv.pdf(data), x.shape)\n",
        "plt.figure(figsize=(8,4))\n",
        "plt.contourf(x, y, p)\n",
        "\n",
        "def plot_axes(vecs, mu, cols=[\"#1190FF\", \"#FF9A13\"]):\n",
        "  for i in range(len(vecs)):\n",
        "    x = np.concatenate([mu,vecs[i]])\n",
        "    plt.quiver(*x,angles='xy', scale_units='xy', scale=1, color=cols[i])\n",
        "\n",
        "y_axis = U*tf.pow(lamb, 1/2)\n",
        "plot_axes([y_axis[:,0], y_axis[:,1]],mu)"
      ],
      "execution_count": 33,
      "outputs": [
        {
          "output_type": "stream",
          "text": [
            "x 좌표계에서 (4,2)의 y 좌표계에서의 좌표: [0. 0.]\n",
            "x 좌표계에서 (0,0)의 y 좌표계에서의 좌표: [-0.56322885 -4.4365273 ]\n"
          ],
          "name": "stdout"
        },
        {
          "output_type": "display_data",
          "data": {
            "image/png": "[encoded data removed]",
            "text/plain": [
              "<Figure size 576x288 with 1 Axes>"
            ]
          },
          "metadata": {
            "tags": []
          }
        }
      ]
    },
    {
      "cell_type": "code",
      "metadata": {
        "id": "1G2t9-557kQG",
        "colab_type": "code",
        "outputId": "cd1de371-7d1f-4cd2-f196-38ba4768cb57",
        "colab": {
          "base_uri": "https://localhost:8080/",
          "height": 265
        }
      },
      "source": [
        "mu = tf.constant([4., 4.])\n",
        "cov = tf.constant([[[1.0, 0.8], [0.8, 2.0]],  # general form\n",
        "                   [[3.0, 0.0], [0.0, 1.0]],  # diagonal\n",
        "                   [[1.0, 0.0], [0.0, 1.0]]]) # proportional to the identity \n",
        "\n",
        "x, y = np.mgrid[0:8:.1, 0:8:.1]\n",
        "data = np.reshape(np.array([x, y]), (2,-1)).T\n",
        "\n",
        "plt.figure(figsize=(12, 4))\n",
        "for i in range(3):\n",
        "  myrv = MultivariateGaussian(mu, cov[i])\n",
        "  p = tf.reshape(myrv.pdf(data), x.shape)\n",
        "  plt.subplot(1, 3, i+1)\n",
        "  plt.contourf(x, y, p)"
      ],
      "execution_count": 34,
      "outputs": [
        {
          "output_type": "display_data",
          "data": {
            "image/png": "[encoded data removed]",
            "text/plain": [
              "<Figure size 864x288 with 3 Axes>"
            ]
          },
          "metadata": {
            "tags": []
          }
        }
      ]
    },
    {
      "cell_type": "markdown",
      "metadata": {
        "id": "q-SjwvxOapJF",
        "colab_type": "text"
      },
      "source": [
        "### 2.3.1 Conditional Gaussian distributions"
      ]
    },
    {
      "cell_type": "code",
      "metadata": {
        "id": "Z2DE5gc6X6eh",
        "colab_type": "code",
        "colab": {}
      },
      "source": [
        "mu = tf.constant([0.5,0.5])\n",
        "cov = tf.constant([[1.0, 0.95], [0.95, 1.0]])*0.03\n",
        "joint_dist = MultivariateGaussian(mu, cov)"
      ],
      "execution_count": 0,
      "outputs": []
    },
    {
      "cell_type": "code",
      "metadata": {
        "id": "y23QI0ohcQ23",
        "colab_type": "code",
        "colab": {}
      },
      "source": [
        "# (식 2.94)\n",
        "mu_a, mu_b = mu\n",
        "\n",
        "# (식 2.95)\n",
        "cov_aa,cov_ab = tf.slice(cov, [0,0],[1,1]), tf.slice(cov, [1,0],[1,1])\n",
        "cov_ba,cov_bb = tf.slice(cov, [0,1],[1,1]), tf.slice(cov, [1,1],[1,1])\n",
        "prec = tf.linalg.inv(cov)\n",
        "prec_aa,prec_ab = tf.slice(prec, [0,0],[1,1]), tf.slice(prec, [1,0],[1,1]) \n",
        "prec_ba,prec_bb = tf.slice(prec, [0,1],[1,1]), tf.slice(prec, [1,1],[1,1])\n",
        "\n",
        "# (식 2.97)\n",
        "def conditional_mu(x_b):\n",
        "  return mu_a - tf.linalg.matvec(\n",
        "      tf.matmul(tf.linalg.inv(prec_aa), prec_ab),\n",
        "      tf.subtract(x_b, mu_b))"
      ],
      "execution_count": 0,
      "outputs": []
    },
    {
      "cell_type": "code",
      "metadata": {
        "id": "qvy5jRq_h82-",
        "colab_type": "code",
        "outputId": "89783aa2-e10a-42dc-c83c-21bdd57cfec4",
        "colab": {
          "base_uri": "https://localhost:8080/",
          "height": 51
        }
      },
      "source": [
        "x_b = [0.7]\n",
        "mu_a_given_b = conditional_mu(x_b)\n",
        "\n",
        "# (식 2.96)\n",
        "conditional_dist = MultivariateGaussian(mu_a_given_b, tf.linalg.inv(prec_aa))\n",
        "print(\"CONDITIONAL DISTRIBUTION:\\n\", \n",
        "      conditional_dist.mean(), conditional_dist.covariance())"
      ],
      "execution_count": 37,
      "outputs": [
        {
          "output_type": "stream",
          "text": [
            "CONDITIONAL DISTRIBUTION:\n",
            " tf.Tensor(0.69, shape=(), dtype=float32) tf.Tensor([[0.002925]], shape=(1, 1), dtype=float32)\n"
          ],
          "name": "stdout"
        }
      ]
    },
    {
      "cell_type": "markdown",
      "metadata": {
        "id": "QatQvdJ521nW",
        "colab_type": "text"
      },
      "source": [
        "### 2.3.2 Marginal Gaussian distributions"
      ]
    },
    {
      "cell_type": "code",
      "metadata": {
        "id": "ReCyY5wT2zQp",
        "colab_type": "code",
        "outputId": "67c59bd5-bbb2-4d36-a85a-3c17f64083b3",
        "colab": {
          "base_uri": "https://localhost:8080/",
          "height": 51
        }
      },
      "source": [
        "# (식 2.98)\n",
        "marginal_dist = MultivariateGaussian(mu_a, cov_aa)\n",
        "print(\"MARGINAL DISTRIBUTION:\\n\", \n",
        "      marginal_dist.mean(), marginal_dist.covariance())"
      ],
      "execution_count": 38,
      "outputs": [
        {
          "output_type": "stream",
          "text": [
            "MARGINAL DISTRIBUTION:\n",
            " tf.Tensor(0.5, shape=(), dtype=float32) tf.Tensor([[0.03]], shape=(1, 1), dtype=float32)\n"
          ],
          "name": "stdout"
        }
      ]
    },
    {
      "cell_type": "code",
      "metadata": {
        "id": "uryJ4YyKmaWv",
        "colab_type": "code",
        "outputId": "0b5e57a3-3fb6-4e2e-e918-371528edd1ff",
        "colab": {
          "base_uri": "https://localhost:8080/",
          "height": 341
        }
      },
      "source": [
        "x, y = np.mgrid[0:1:.01, 0:1:.01]\n",
        "myrv = MultivariateGaussian(mu, cov)\n",
        "data = np.reshape(np.array([x, y]), (2,-1)).T\n",
        "p = tf.reshape(myrv.pdf(data), x.shape)\n",
        "\n",
        "plt.figure(figsize=(10,5))\n",
        "plt.subplot(1, 2, 1)\n",
        "plt.contourf(x, y, p)\n",
        "plt.axhline(y=x_b, color='r', linewidth=1)\n",
        "\n",
        "plt.subplot(1, 2, 2)\n",
        "mu = tf.squeeze(conditional_dist.mean()).numpy()\n",
        "var = tf.squeeze(conditional_dist.covariance()).numpy()\n",
        "dist = Gaussian(mu, var)\n",
        "x = np.linspace(0, 1, 100)\n",
        "plt.plot(x, dist.pdf(x), 'r')\n",
        "\n",
        "mu = tf.squeeze(marginal_dist.mean()).numpy()\n",
        "var = tf.squeeze(marginal_dist.covariance()).numpy()\n",
        "dist = Gaussian(mu, var)\n",
        "x = np.linspace(0, 1, 100)\n",
        "plt.plot(x, dist.pdf(x), 'b')\n",
        "plt.xlim(0,1); plt.ylim(0,10)"
      ],
      "execution_count": 39,
      "outputs": [
        {
          "output_type": "execute_result",
          "data": {
            "text/plain": [
              "(0, 10)"
            ]
          },
          "metadata": {
            "tags": []
          },
          "execution_count": 39
        },
        {
          "output_type": "display_data",
          "data": {
            "image/png": "[encoded data removed]",
            "text/plain": [
              "<Figure size 720x360 with 2 Axes>"
            ]
          },
          "metadata": {
            "tags": []
          }
        }
      ]
    },
    {
      "cell_type": "markdown",
      "metadata": {
        "id": "7OQ2xVVJ3DYr",
        "colab_type": "text"
      },
      "source": [
        "### 2.3.4 Maximum likelihood form the Gaussian"
      ]
    },
    {
      "cell_type": "code",
      "metadata": {
        "id": "wNUOIC_hfx9K",
        "colab_type": "code",
        "outputId": "dc4153ad-9ee5-419a-c448-6121145b79c3",
        "colab": {
          "base_uri": "https://localhost:8080/",
          "height": 68
        }
      },
      "source": [
        "X = np.random.normal(loc=1., scale=2., size=(10000, 2))\n",
        "gaussian = MultivariateGaussian()\n",
        "gaussian.mle(X)\n",
        "print(gaussian.mean(), gaussian.covariance())"
      ],
      "execution_count": 40,
      "outputs": [
        {
          "output_type": "stream",
          "text": [
            "tf.Tensor([1.00436585 1.03590818], shape=(2,), dtype=float64) tf.Tensor(\n",
            "[[3.86343391 0.05212482]\n",
            " [0.05212482 4.01739786]], shape=(2, 2), dtype=float64)\n"
          ],
          "name": "stdout"
        }
      ]
    },
    {
      "cell_type": "markdown",
      "metadata": {
        "id": "VRS7CpnpCb8h",
        "colab_type": "text"
      },
      "source": [
        "### 2.3.6 Bayesian inference for the Gaussian"
      ]
    },
    {
      "cell_type": "code",
      "metadata": {
        "id": "ZB5Zjo75BS_T",
        "colab_type": "code",
        "colab": {}
      },
      "source": [
        "# TODO: \n",
        "class Gamma:\n",
        "  def __init__(self, a=None, b=None):\n",
        "    pass\n",
        "  def pdf(self, x):\n",
        "    pass"
      ],
      "execution_count": 0,
      "outputs": []
    },
    {
      "cell_type": "code",
      "metadata": {
        "id": "CxzLHDclCpIk",
        "colab_type": "code",
        "colab": {}
      },
      "source": [
        "# TODO:\n",
        "prior_gamma_dist = Gamma()\n",
        "likelihood_gauss_dist = Gaussian()\n",
        "# posterior_gamma_dist = likelihood_gauss_dist.pdf() * prior_gamma_dist.pdf()"
      ],
      "execution_count": 0,
      "outputs": []
    },
    {
      "cell_type": "code",
      "metadata": {
        "id": "DSCu-6IXDuh0",
        "colab_type": "code",
        "colab": {}
      },
      "source": [
        ""
      ],
      "execution_count": 0,
      "outputs": []
    }
  ]
}